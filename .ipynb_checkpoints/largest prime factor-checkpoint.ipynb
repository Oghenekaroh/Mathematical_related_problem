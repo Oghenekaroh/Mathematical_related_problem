{
 "cells": [
  {
   "cell_type": "code",
   "execution_count": 2,
   "metadata": {},
   "outputs": [],
   "source": [
    "### The prime factors of 13195 are 5, 7, 13 and 29.\n",
    "\n",
    "###What is the largest prime factor of the number 600851475143 ?"
   ]
  },
  {
   "cell_type": "code",
   "execution_count": 1,
   "metadata": {},
   "outputs": [],
   "source": [
    "num = int(input('enter an integer\\n>>'))\n",
    "def find_primefactor(num):\n",
    "    prime_factors = []\n",
    "\n",
    "    x = num\n",
    "    a = x/65536\n",
    "    q = int(a)\n",
    "    while a <= x/2:\n",
    "        e = 2\n",
    "        for i in range(e, q):\n",
    "            while x%i == 0:\n",
    "                prime_factors.append(i)\n",
    "                x = x/i\n",
    "        e=q\n",
    "        a += x/65536\n",
    "    \n",
    "    if len(prime_factors) == 0:      \n",
    "        print(num)\n",
    "    else:\n",
    "        print(prime_factors)\n",
    "find_primefactor(num)"
   ]
  },
  {
   "cell_type": "code",
   "execution_count": null,
   "metadata": {},
   "outputs": [],
   "source": [
    "prime_factors = []\n",
    "x = int(input('enter an integer\\n>>'))\n",
    "b = x\n",
    "a = round(x/2)\n",
    "for i in range(2, a):\n",
    "    if x/i ==1:\n",
    "        prime_factors.append(i)\n",
    "        x = x/i\n",
    "    else:\n",
    "        while x%i == 0:\n",
    "            prime_factors.append(i)\n",
    "            x = x/i\n",
    "if len(prime_factors) == 0:      \n",
    "    print(b)\n",
    "else:\n",
    "    print(prime_factors)"
   ]
  }
 ],
 "metadata": {
  "interpreter": {
   "hash": "b1e6b76b6e736d29445d5c5f779c1dafb0f59893c5766b7198bc0a87a8e7acf4"
  },
  "kernelspec": {
   "display_name": "Python 3",
   "language": "python",
   "name": "python3"
  },
  "language_info": {
   "codemirror_mode": {
    "name": "ipython",
    "version": 3
   },
   "file_extension": ".py",
   "mimetype": "text/x-python",
   "name": "python",
   "nbconvert_exporter": "python",
   "pygments_lexer": "ipython3",
   "version": "3.6.4"
  }
 },
 "nbformat": 4,
 "nbformat_minor": 2
}
