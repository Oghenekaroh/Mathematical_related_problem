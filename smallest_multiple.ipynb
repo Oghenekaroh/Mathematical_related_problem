{
 "cells": [
  {
   "cell_type": "code",
   "execution_count": 21,
   "metadata": {},
   "outputs": [
    {
     "name": "stdout",
     "output_type": "stream",
     "text": [
      "[2, 3, 4, 5, 6, 7, 8, 9, 10]\n"
     ]
    }
   ],
   "source": [
    "x = list(x for x in range(1,11))\n",
    "y = [2,3,5,7]\n",
    "f = []\n",
    "g = []\n",
    "x.remove(1)\n",
    "print(x)"
   ]
  },
  {
   "cell_type": "code",
   "execution_count": 30,
   "metadata": {},
   "outputs": [],
   "source": [
    "x = list(x for x in range(1,11))\n",
    "y = [2,3,5,7]\n",
    "f = []\n",
    "g = []\n",
    "\n",
    "for i in y:\n",
    "    for j in x:\n",
    "        b = j//i\n",
    "        while b == 0:\n",
    "            f.append(i)\n",
    "        x.remove(j)\n",
    "        print(x)\n",
    "print(j)\n",
    "\n"
   ]
  }
 ],
 "metadata": {
  "interpreter": {
   "hash": "b1e6b76b6e736d29445d5c5f779c1dafb0f59893c5766b7198bc0a87a8e7acf4"
  },
  "kernelspec": {
   "display_name": "Python 3.6.4 ('base')",
   "language": "python",
   "name": "python3"
  },
  "language_info": {
   "name": "python",
   "version": "3.6.4"
  },
  "orig_nbformat": 4
 },
 "nbformat": 4,
 "nbformat_minor": 2
}
