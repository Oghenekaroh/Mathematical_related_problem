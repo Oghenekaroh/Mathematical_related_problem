{
 "cells": [
  {
   "cell_type": "code",
   "execution_count": 1,
   "metadata": {},
   "outputs": [],
   "source": [
    "import pandas as pd"
   ]
  },
  {
   "cell_type": "code",
   "execution_count": 86,
   "metadata": {},
   "outputs": [
    {
     "name": "stdout",
     "output_type": "stream",
     "text": [
      "  row 1\n",
      "0   6,8\n",
      "1   7,6\n",
      "2   2,8\n",
      "3   9,5\n",
      "4   9,6\n"
     ]
    }
   ],
   "source": [
    "#Step 1 is to import the txt file as pandas dataframe\n",
    "f = pd.read_table(\"C:\\\\Users\\HP\\OneDrive\\Documents\\Mathematical_related_problem\\Mathematical_related_problem\\Carols Problems\\\\input.txt\", names = ['row 1'])\n",
    "print(f)"
   ]
  },
  {
   "cell_type": "code",
   "execution_count": 87,
   "metadata": {},
   "outputs": [
    {
     "name": "stdout",
     "output_type": "stream",
     "text": [
      "['6', '8', '7', '6', '2', '8', '9', '5', '9', '6']\n"
     ]
    }
   ],
   "source": [
    "# Step 2 is to convert that dataframe to a list which can be done in 2 methods\n",
    "m = list(f.loc[:, 'row 1'])\n",
    "b = m[0].split(',')\n",
    "c = m[1].split(',')\n",
    "d = m[2].split(',')\n",
    "e = m[3].split(',')\n",
    "f = m[4].split(',')\n",
    "b = b + c + d + e + f\n",
    "\n",
    "#or\n",
    "x = []\n",
    "b = []\n",
    "for i in m:\n",
    "    x = i.split(\",\")\n",
    "    b = b + x\n",
    "print(b)"
   ]
  },
  {
   "cell_type": "code",
   "execution_count": 88,
   "metadata": {},
   "outputs": [
    {
     "name": "stdout",
     "output_type": "stream",
     "text": [
      "[6, 8, 7, 6, 2, 8, 9, 5, 9, 6]\n"
     ]
    }
   ],
   "source": [
    "#Step 3 is to convert the list of strings to integers \n",
    "b = [int(i) for i in b]\n",
    "print(b)"
   ]
  },
  {
   "cell_type": "code",
   "execution_count": 9,
   "metadata": {},
   "outputs": [],
   "source": [
    "#function 1...... solution 1\n",
    "def countNum(num):\n",
    "    count = 0\n",
    "    for i in b:\n",
    "        if i == num:\n",
    "            count = count + 1\n",
    "    return count\n"
   ]
  },
  {
   "cell_type": "code",
   "execution_count": 58,
   "metadata": {},
   "outputs": [
    {
     "name": "stdout",
     "output_type": "stream",
     "text": [
      "(14, 13, 10, 14, 15)\n"
     ]
    }
   ],
   "source": [
    "#solution 2\n",
    "x = []\n",
    "c = 0\n",
    "c = b[0]+b[1], b[2]+b[3],  b[4]+b[5], b[6]+b[7], b[8]+b[9]\n",
    "print(c)"
   ]
  }
 ],
 "metadata": {
  "interpreter": {
   "hash": "b1e6b76b6e736d29445d5c5f779c1dafb0f59893c5766b7198bc0a87a8e7acf4"
  },
  "kernelspec": {
   "display_name": "Python 3.6.4 ('base')",
   "language": "python",
   "name": "python3"
  },
  "language_info": {
   "codemirror_mode": {
    "name": "ipython",
    "version": 3
   },
   "file_extension": ".py",
   "mimetype": "text/x-python",
   "name": "python",
   "nbconvert_exporter": "python",
   "pygments_lexer": "ipython3",
   "version": "3.6.4"
  },
  "orig_nbformat": 4
 },
 "nbformat": 4,
 "nbformat_minor": 2
}
