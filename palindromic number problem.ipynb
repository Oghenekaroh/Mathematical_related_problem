{
 "cells": [
  {
   "cell_type": "code",
   "execution_count": 5,
   "metadata": {},
   "outputs": [
    {
     "name": "stdout",
     "output_type": "stream",
     "text": [
      "993 906609\n",
      "993 906609\n"
     ]
    }
   ],
   "source": [
    "#A palindromic number reads the same both ways. The largest palindrome made from the product of two 2-digit numbers is 9009 = 91 × 99.\n",
    "\n",
    "#Find the largest palindrome made from the product of two 3-digit numbers.\n",
    "# Solution 1\n",
    "def create_list(a):\n",
    "    a = str(a)\n",
    "    xyz = []\n",
    "    for i in a:\n",
    "        i = int(i)\n",
    "        xyz.append(i)\n",
    "    return xyz        \n",
    "for i in range(900009,998001):\n",
    "    x = create_list(i)\n",
    "    if x[0] == x[5] and x[1] == x[4] and x[2]== x[3]:\n",
    "        b = ''\n",
    "        for i in x:\n",
    "            b += str(i)\n",
    "        b = int(b)\n",
    "        c = 999\n",
    "        while b%c != 0 and c>=100:\n",
    "            c = c-1\n",
    "        if b/c < 1000:\n",
    "            print(c,b)\n",
    "\n",
    "# Solution 2\n",
    "for i in range(900009,998001):\n",
    "    xyz = []\n",
    "    x = str(i)\n",
    "    for i in x:\n",
    "       i = int(i)\n",
    "       xyz.append(i) \n",
    "    if x[0] == x[5] and x[1] == x[4] and x[2]== x[3]:\n",
    "        b = ''\n",
    "        for i in x:\n",
    "            b += str(i)\n",
    "        b = int(b)\n",
    "        c = 999\n",
    "        while b%c != 0 and c>=100:\n",
    "            c = c-1\n",
    "        if b/c < 1000:\n",
    "            print(c,b)"
   ]
  }
 ],
 "metadata": {
  "interpreter": {
   "hash": "b1e6b76b6e736d29445d5c5f779c1dafb0f59893c5766b7198bc0a87a8e7acf4"
  },
  "kernelspec": {
   "display_name": "Python 3.6.4 ('base')",
   "language": "python",
   "name": "python3"
  },
  "language_info": {
   "codemirror_mode": {
    "name": "ipython",
    "version": 3
   },
   "file_extension": ".py",
   "mimetype": "text/x-python",
   "name": "python",
   "nbconvert_exporter": "python",
   "pygments_lexer": "ipython3",
   "version": "3.6.4"
  },
  "orig_nbformat": 4
 },
 "nbformat": 4,
 "nbformat_minor": 2
}
